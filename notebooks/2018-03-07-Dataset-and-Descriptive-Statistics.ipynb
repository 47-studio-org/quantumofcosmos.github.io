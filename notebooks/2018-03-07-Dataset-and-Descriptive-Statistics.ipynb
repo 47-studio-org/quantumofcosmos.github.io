{
 "cells": [
  {
   "cell_type": "markdown",
   "metadata": {},
   "source": [
    "A markdown cell\n",
    "Mean median range SD Variance"
   ]
  },
  {
   "cell_type": "markdown",
   "metadata": {},
   "source": [
    "# Mean"
   ]
  },
  {
   "cell_type": "markdown",
   "metadata": {},
   "source": [
    "The arithmetic mean (or simply \"mean\") of a sample ${\\displaystyle x_{1},x_{2},\\ldots ,x_{n}}$, usually denoted by ${\\displaystyle {\\bar {x}}}$, is the sum of the sampled values divided by the number of items in the sample.\n",
    "\n",
    "\n",
    "$${\\bar {x}} = \\frac{1}{n} \\begin{pmatrix} \\sum^n_{i=1} x_i\\end{pmatrix}$$\n",
    "\n"
   ]
  },
  {
   "cell_type": "code",
   "execution_count": 1,
   "metadata": {},
   "outputs": [
    {
     "name": "stdout",
     "output_type": "stream",
     "text": [
      "python3\n"
     ]
    }
   ],
   "source": [
    "print(\"python3\")"
   ]
  },
  {
   "cell_type": "code",
   "execution_count": 1,
   "metadata": {},
   "outputs": [
    {
     "name": "stdout",
     "output_type": "stream",
     "text": [
      "[1] \"R is a language used for statistical and mathematical processing\"\n"
     ]
    }
   ],
   "source": [
    "print(\"R is a language used for statistical and mathematical processing\")"
   ]
  }
 ],
 "metadata": {
  "kernelspec": {
   "display_name": "Python 3",
   "language": "python",
   "name": "python3"
  },
  "language_info": {
   "codemirror_mode": {
    "name": "ipython",
    "version": 3
   },
   "file_extension": ".py",
   "mimetype": "text/x-python",
   "name": "python",
   "nbconvert_exporter": "python",
   "pygments_lexer": "ipython3",
   "version": "3.6.4"
  }
 },
 "nbformat": 4,
 "nbformat_minor": 2
}
